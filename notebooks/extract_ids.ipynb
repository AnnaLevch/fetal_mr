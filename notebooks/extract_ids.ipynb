{
 "cells": [
  {
   "cell_type": "code",
   "execution_count": 8,
   "metadata": {
    "collapsed": true
   },
   "outputs": [],
   "source": [
    "import re\n",
    "\n",
    "def patient_series_id_from_filepath(filename):\n",
    "    basename = os.path.basename(filename)\n",
    "    p = re.compile(\"Pat(?P<patient_id>[\\d]+)_Se(?P<series_id>[\\d]+)\")\n",
    "    ids = p.findall(basename)[0]\n",
    "    patient_id = ids[0]\n",
    "    series_id = ids[1]\n",
    "    return patient_id, series_id"
   ]
  },
  {
   "cell_type": "code",
   "execution_count": 27,
   "metadata": {
    "collapsed": false
   },
   "outputs": [
    {
     "name": "stdout",
     "output_type": "stream",
     "text": [
      "scan_id is: 11series_id: 5\n"
     ]
    },
    {
     "data": {
      "text/plain": [
       "5.0"
      ]
     },
     "execution_count": 27,
     "metadata": {},
     "output_type": "execute_result"
    }
   ],
   "source": [
    "filename = 'Pat11_Se05_Res0.7422_0.7422_Spac5'\n",
    "res_map_path = '/home/bella/Phd/data/index_all.csv'\n",
    "scan_id, series_id = patient_series_id_from_filepath(filename)\n",
    "print('scan_id is: ' + str(int(scan_id)) + \"series_id: \" + str(int(series_id)))\n",
    "\n",
    "df = pd.read_csv(res_map_path, encoding = \"unicode_escape\")\n",
    "#row_df = df.loc[(df['Subject'] is scan_id) & (df['Series'] is series_id)]\n",
    "#spacing = row_df.iloc[0]['SpacingBetweenSlices']\n",
    "row_df = df[(df['Subject']==int(scan_id)) & (df['Series']==int(series_id))]\n",
    "row_df\n",
    "spacing = row_df.iloc[0]['SpacingBetweenSlices']\n",
    "spacing\n"
   ]
  },
  {
   "cell_type": "code",
   "execution_count": 47,
   "metadata": {
    "collapsed": false
   },
   "outputs": [],
   "source": []
  },
  {
   "cell_type": "code",
   "execution_count": 48,
   "metadata": {
    "collapsed": false
   },
   "outputs": [
    {
     "name": "stdout",
     "output_type": "stream",
     "text": [
      "('0.7422', '0.7422', '5', '')\n"
     ]
    }
   ],
   "source": []
  },
  {
   "cell_type": "code",
   "execution_count": null,
   "metadata": {
    "collapsed": false
   },
   "outputs": [],
   "source": []
  },
  {
   "cell_type": "code",
   "execution_count": 6,
   "metadata": {
    "collapsed": false
   },
   "outputs": [
    {
     "data": {
      "text/plain": [
       "[1, 4, 8, 3]"
      ]
     },
     "execution_count": 6,
     "metadata": {},
     "output_type": "execute_result"
    }
   ],
   "source": []
  },
  {
   "cell_type": "code",
   "execution_count": null,
   "metadata": {
    "collapsed": true
   },
   "outputs": [],
   "source": []
  }
 ],
 "metadata": {
  "anaconda-cloud": {},
  "kernelspec": {
   "display_name": "Python [conda env:keras_tensorflow]",
   "language": "python",
   "name": "conda-env-keras_tensorflow-py"
  },
  "language_info": {
   "codemirror_mode": {
    "name": "ipython",
    "version": 3
   },
   "file_extension": ".py",
   "mimetype": "text/x-python",
   "name": "python",
   "nbconvert_exporter": "python",
   "pygments_lexer": "ipython3",
   "version": "3.6.9"
  }
 },
 "nbformat": 4,
 "nbformat_minor": 1
}
